{
 "cells": [
  {
   "cell_type": "code",
   "execution_count": 2,
   "id": "bba484a9",
   "metadata": {},
   "outputs": [],
   "source": [
    "import pandas as pd\n",
    "import numpy as np\n",
    "import seaborn as sns\n",
    "import matplotlib.pyplot as plt\n",
    "import warnings\n",
    "warnings.filterwarnings(\"ignore\")"
   ]
  },
  {
   "cell_type": "code",
   "execution_count": 3,
   "id": "fae47c9d",
   "metadata": {},
   "outputs": [
    {
     "data": {
      "text/html": [
       "<div>\n",
       "<style scoped>\n",
       "    .dataframe tbody tr th:only-of-type {\n",
       "        vertical-align: middle;\n",
       "    }\n",
       "\n",
       "    .dataframe tbody tr th {\n",
       "        vertical-align: top;\n",
       "    }\n",
       "\n",
       "    .dataframe thead th {\n",
       "        text-align: right;\n",
       "    }\n",
       "</style>\n",
       "<table border=\"1\" class=\"dataframe\">\n",
       "  <thead>\n",
       "    <tr style=\"text-align: right;\">\n",
       "      <th></th>\n",
       "      <th>Unnamed: 0</th>\n",
       "      <th>item</th>\n",
       "      <th>calories</th>\n",
       "      <th>fat</th>\n",
       "      <th>carb</th>\n",
       "      <th>fiber</th>\n",
       "      <th>protein</th>\n",
       "      <th>type</th>\n",
       "    </tr>\n",
       "  </thead>\n",
       "  <tbody>\n",
       "    <tr>\n",
       "      <th>0</th>\n",
       "      <td>1</td>\n",
       "      <td>8-Grain Roll</td>\n",
       "      <td>350</td>\n",
       "      <td>8.0</td>\n",
       "      <td>67</td>\n",
       "      <td>5</td>\n",
       "      <td>10</td>\n",
       "      <td>bakery</td>\n",
       "    </tr>\n",
       "    <tr>\n",
       "      <th>1</th>\n",
       "      <td>2</td>\n",
       "      <td>Apple Bran Muffin</td>\n",
       "      <td>350</td>\n",
       "      <td>9.0</td>\n",
       "      <td>64</td>\n",
       "      <td>7</td>\n",
       "      <td>6</td>\n",
       "      <td>bakery</td>\n",
       "    </tr>\n",
       "    <tr>\n",
       "      <th>2</th>\n",
       "      <td>3</td>\n",
       "      <td>Apple Fritter</td>\n",
       "      <td>420</td>\n",
       "      <td>20.0</td>\n",
       "      <td>59</td>\n",
       "      <td>0</td>\n",
       "      <td>5</td>\n",
       "      <td>bakery</td>\n",
       "    </tr>\n",
       "    <tr>\n",
       "      <th>3</th>\n",
       "      <td>4</td>\n",
       "      <td>Banana Nut Loaf</td>\n",
       "      <td>490</td>\n",
       "      <td>19.0</td>\n",
       "      <td>75</td>\n",
       "      <td>4</td>\n",
       "      <td>7</td>\n",
       "      <td>bakery</td>\n",
       "    </tr>\n",
       "    <tr>\n",
       "      <th>4</th>\n",
       "      <td>5</td>\n",
       "      <td>Birthday Cake Mini Doughnut</td>\n",
       "      <td>130</td>\n",
       "      <td>6.0</td>\n",
       "      <td>17</td>\n",
       "      <td>0</td>\n",
       "      <td>0</td>\n",
       "      <td>bakery</td>\n",
       "    </tr>\n",
       "  </tbody>\n",
       "</table>\n",
       "</div>"
      ],
      "text/plain": [
       "   Unnamed: 0                         item  calories   fat  carb  fiber  \\\n",
       "0           1                 8-Grain Roll       350   8.0    67      5   \n",
       "1           2            Apple Bran Muffin       350   9.0    64      7   \n",
       "2           3                Apple Fritter       420  20.0    59      0   \n",
       "3           4              Banana Nut Loaf       490  19.0    75      4   \n",
       "4           5  Birthday Cake Mini Doughnut       130   6.0    17      0   \n",
       "\n",
       "   protein    type  \n",
       "0       10  bakery  \n",
       "1        6  bakery  \n",
       "2        5  bakery  \n",
       "3        7  bakery  \n",
       "4        0  bakery  "
      ]
     },
     "execution_count": 3,
     "metadata": {},
     "output_type": "execute_result"
    }
   ],
   "source": [
    "df = pd.read_csv(\"starbucks.csv\")\n",
    "df.head()"
   ]
  },
  {
   "cell_type": "code",
   "execution_count": 4,
   "id": "7ef06fe8",
   "metadata": {},
   "outputs": [
    {
     "data": {
      "text/plain": [
       "(77, 8)"
      ]
     },
     "execution_count": 4,
     "metadata": {},
     "output_type": "execute_result"
    }
   ],
   "source": [
    "df.shape"
   ]
  },
  {
   "cell_type": "code",
   "execution_count": 5,
   "id": "1d91cd48",
   "metadata": {},
   "outputs": [
    {
     "data": {
      "text/html": [
       "<div>\n",
       "<style scoped>\n",
       "    .dataframe tbody tr th:only-of-type {\n",
       "        vertical-align: middle;\n",
       "    }\n",
       "\n",
       "    .dataframe tbody tr th {\n",
       "        vertical-align: top;\n",
       "    }\n",
       "\n",
       "    .dataframe thead th {\n",
       "        text-align: right;\n",
       "    }\n",
       "</style>\n",
       "<table border=\"1\" class=\"dataframe\">\n",
       "  <thead>\n",
       "    <tr style=\"text-align: right;\">\n",
       "      <th></th>\n",
       "      <th>Unnamed: 0</th>\n",
       "      <th>calories</th>\n",
       "      <th>fat</th>\n",
       "      <th>carb</th>\n",
       "      <th>fiber</th>\n",
       "      <th>protein</th>\n",
       "    </tr>\n",
       "  </thead>\n",
       "  <tbody>\n",
       "    <tr>\n",
       "      <th>count</th>\n",
       "      <td>77.000000</td>\n",
       "      <td>77.000000</td>\n",
       "      <td>77.000000</td>\n",
       "      <td>77.000000</td>\n",
       "      <td>77.000000</td>\n",
       "      <td>77.000000</td>\n",
       "    </tr>\n",
       "    <tr>\n",
       "      <th>mean</th>\n",
       "      <td>39.000000</td>\n",
       "      <td>338.831169</td>\n",
       "      <td>13.766234</td>\n",
       "      <td>44.870130</td>\n",
       "      <td>2.220779</td>\n",
       "      <td>9.480519</td>\n",
       "    </tr>\n",
       "    <tr>\n",
       "      <th>std</th>\n",
       "      <td>22.371857</td>\n",
       "      <td>105.368701</td>\n",
       "      <td>7.095488</td>\n",
       "      <td>16.551634</td>\n",
       "      <td>2.112764</td>\n",
       "      <td>8.079556</td>\n",
       "    </tr>\n",
       "    <tr>\n",
       "      <th>min</th>\n",
       "      <td>1.000000</td>\n",
       "      <td>80.000000</td>\n",
       "      <td>0.000000</td>\n",
       "      <td>16.000000</td>\n",
       "      <td>0.000000</td>\n",
       "      <td>0.000000</td>\n",
       "    </tr>\n",
       "    <tr>\n",
       "      <th>25%</th>\n",
       "      <td>20.000000</td>\n",
       "      <td>300.000000</td>\n",
       "      <td>9.000000</td>\n",
       "      <td>31.000000</td>\n",
       "      <td>0.000000</td>\n",
       "      <td>5.000000</td>\n",
       "    </tr>\n",
       "    <tr>\n",
       "      <th>50%</th>\n",
       "      <td>39.000000</td>\n",
       "      <td>350.000000</td>\n",
       "      <td>13.000000</td>\n",
       "      <td>45.000000</td>\n",
       "      <td>2.000000</td>\n",
       "      <td>7.000000</td>\n",
       "    </tr>\n",
       "    <tr>\n",
       "      <th>75%</th>\n",
       "      <td>58.000000</td>\n",
       "      <td>420.000000</td>\n",
       "      <td>18.000000</td>\n",
       "      <td>59.000000</td>\n",
       "      <td>4.000000</td>\n",
       "      <td>15.000000</td>\n",
       "    </tr>\n",
       "    <tr>\n",
       "      <th>max</th>\n",
       "      <td>77.000000</td>\n",
       "      <td>500.000000</td>\n",
       "      <td>28.000000</td>\n",
       "      <td>80.000000</td>\n",
       "      <td>7.000000</td>\n",
       "      <td>34.000000</td>\n",
       "    </tr>\n",
       "  </tbody>\n",
       "</table>\n",
       "</div>"
      ],
      "text/plain": [
       "       Unnamed: 0    calories        fat       carb      fiber    protein\n",
       "count   77.000000   77.000000  77.000000  77.000000  77.000000  77.000000\n",
       "mean    39.000000  338.831169  13.766234  44.870130   2.220779   9.480519\n",
       "std     22.371857  105.368701   7.095488  16.551634   2.112764   8.079556\n",
       "min      1.000000   80.000000   0.000000  16.000000   0.000000   0.000000\n",
       "25%     20.000000  300.000000   9.000000  31.000000   0.000000   5.000000\n",
       "50%     39.000000  350.000000  13.000000  45.000000   2.000000   7.000000\n",
       "75%     58.000000  420.000000  18.000000  59.000000   4.000000  15.000000\n",
       "max     77.000000  500.000000  28.000000  80.000000   7.000000  34.000000"
      ]
     },
     "execution_count": 5,
     "metadata": {},
     "output_type": "execute_result"
    }
   ],
   "source": [
    "df.describe()"
   ]
  },
  {
   "cell_type": "code",
   "execution_count": 6,
   "id": "84fbd340",
   "metadata": {},
   "outputs": [
    {
     "data": {
      "text/plain": [
       "Unnamed: 0    0\n",
       "item          0\n",
       "calories      0\n",
       "fat           0\n",
       "carb          0\n",
       "fiber         0\n",
       "protein       0\n",
       "type          0\n",
       "dtype: int64"
      ]
     },
     "execution_count": 6,
     "metadata": {},
     "output_type": "execute_result"
    }
   ],
   "source": [
    "df.isnull().sum()"
   ]
  },
  {
   "cell_type": "code",
   "execution_count": 7,
   "id": "f179743f",
   "metadata": {},
   "outputs": [
    {
     "data": {
      "text/plain": [
       "Unnamed: 0    0\n",
       "item          0\n",
       "calories      0\n",
       "fat           0\n",
       "carb          0\n",
       "fiber         0\n",
       "protein       0\n",
       "type          0\n",
       "dtype: int64"
      ]
     },
     "execution_count": 7,
     "metadata": {},
     "output_type": "execute_result"
    }
   ],
   "source": [
    "df.isna().sum()"
   ]
  },
  {
   "cell_type": "code",
   "execution_count": 74,
   "id": "ebbb3498",
   "metadata": {},
   "outputs": [
    {
     "data": {
      "text/html": [
       "<div>\n",
       "<style scoped>\n",
       "    .dataframe tbody tr th:only-of-type {\n",
       "        vertical-align: middle;\n",
       "    }\n",
       "\n",
       "    .dataframe tbody tr th {\n",
       "        vertical-align: top;\n",
       "    }\n",
       "\n",
       "    .dataframe thead th {\n",
       "        text-align: right;\n",
       "    }\n",
       "</style>\n",
       "<table border=\"1\" class=\"dataframe\">\n",
       "  <thead>\n",
       "    <tr style=\"text-align: right;\">\n",
       "      <th></th>\n",
       "      <th>Unnamed: 0</th>\n",
       "      <th>calories</th>\n",
       "      <th>fat</th>\n",
       "      <th>carb</th>\n",
       "      <th>fiber</th>\n",
       "      <th>protein</th>\n",
       "    </tr>\n",
       "  </thead>\n",
       "  <tbody>\n",
       "    <tr>\n",
       "      <th>Unnamed: 0</th>\n",
       "      <td>1.000000</td>\n",
       "      <td>-0.219922</td>\n",
       "      <td>-0.174856</td>\n",
       "      <td>-0.405229</td>\n",
       "      <td>0.050665</td>\n",
       "      <td>0.448922</td>\n",
       "    </tr>\n",
       "    <tr>\n",
       "      <th>calories</th>\n",
       "      <td>-0.219922</td>\n",
       "      <td>1.000000</td>\n",
       "      <td>0.758682</td>\n",
       "      <td>0.674999</td>\n",
       "      <td>0.260645</td>\n",
       "      <td>0.410398</td>\n",
       "    </tr>\n",
       "    <tr>\n",
       "      <th>fat</th>\n",
       "      <td>-0.174856</td>\n",
       "      <td>0.758682</td>\n",
       "      <td>1.000000</td>\n",
       "      <td>0.144547</td>\n",
       "      <td>-0.028549</td>\n",
       "      <td>0.223470</td>\n",
       "    </tr>\n",
       "    <tr>\n",
       "      <th>carb</th>\n",
       "      <td>-0.405229</td>\n",
       "      <td>0.674999</td>\n",
       "      <td>0.144547</td>\n",
       "      <td>1.000000</td>\n",
       "      <td>0.213044</td>\n",
       "      <td>-0.050789</td>\n",
       "    </tr>\n",
       "    <tr>\n",
       "      <th>fiber</th>\n",
       "      <td>0.050665</td>\n",
       "      <td>0.260645</td>\n",
       "      <td>-0.028549</td>\n",
       "      <td>0.213044</td>\n",
       "      <td>1.000000</td>\n",
       "      <td>0.488564</td>\n",
       "    </tr>\n",
       "    <tr>\n",
       "      <th>protein</th>\n",
       "      <td>0.448922</td>\n",
       "      <td>0.410398</td>\n",
       "      <td>0.223470</td>\n",
       "      <td>-0.050789</td>\n",
       "      <td>0.488564</td>\n",
       "      <td>1.000000</td>\n",
       "    </tr>\n",
       "  </tbody>\n",
       "</table>\n",
       "</div>"
      ],
      "text/plain": [
       "            Unnamed: 0  calories       fat      carb     fiber   protein\n",
       "Unnamed: 0    1.000000 -0.219922 -0.174856 -0.405229  0.050665  0.448922\n",
       "calories     -0.219922  1.000000  0.758682  0.674999  0.260645  0.410398\n",
       "fat          -0.174856  0.758682  1.000000  0.144547 -0.028549  0.223470\n",
       "carb         -0.405229  0.674999  0.144547  1.000000  0.213044 -0.050789\n",
       "fiber         0.050665  0.260645 -0.028549  0.213044  1.000000  0.488564\n",
       "protein       0.448922  0.410398  0.223470 -0.050789  0.488564  1.000000"
      ]
     },
     "execution_count": 74,
     "metadata": {},
     "output_type": "execute_result"
    }
   ],
   "source": [
    "corr = df.corr()\n",
    "corr"
   ]
  },
  {
   "cell_type": "code",
   "execution_count": 9,
   "id": "ed8ce01a",
   "metadata": {},
   "outputs": [
    {
     "name": "stdout",
     "output_type": "stream",
     "text": [
      "<class 'pandas.core.frame.DataFrame'>\n",
      "RangeIndex: 77 entries, 0 to 76\n",
      "Data columns (total 8 columns):\n",
      " #   Column      Non-Null Count  Dtype  \n",
      "---  ------      --------------  -----  \n",
      " 0   Unnamed: 0  77 non-null     int64  \n",
      " 1   item        77 non-null     object \n",
      " 2   calories    77 non-null     int64  \n",
      " 3   fat         77 non-null     float64\n",
      " 4   carb        77 non-null     int64  \n",
      " 5   fiber       77 non-null     int64  \n",
      " 6   protein     77 non-null     int64  \n",
      " 7   type        77 non-null     object \n",
      "dtypes: float64(1), int64(5), object(2)\n",
      "memory usage: 4.9+ KB\n"
     ]
    }
   ],
   "source": [
    "df.info()"
   ]
  },
  {
   "cell_type": "code",
   "execution_count": 10,
   "id": "987df75e",
   "metadata": {},
   "outputs": [
    {
     "name": "stdout",
     "output_type": "stream",
     "text": [
      "Unnamed: 0\n",
      "********************\n",
      "1     1\n",
      "50    1\n",
      "57    1\n",
      "56    1\n",
      "55    1\n",
      "     ..\n",
      "26    1\n",
      "25    1\n",
      "24    1\n",
      "23    1\n",
      "77    1\n",
      "Name: Unnamed: 0, Length: 77, dtype: int64\n",
      "item\n",
      "********************\n",
      "8-Grain Roll                             1\n",
      "Apple Pie                                1\n",
      "Red Velvet Whoopie Pie                   1\n",
      "Raspberry Truffle Cake Pop               1\n",
      "Chocolate Hazelnut Tart                  1\n",
      "                                        ..\n",
      "Marshmallow Dream Bar                    1\n",
      "Marble Pound Cake                        1\n",
      "Maple Oat Pecan Scone                    1\n",
      "Mallorca Sweet Bread                     1\n",
      "Strawberry & Blueberry Yogurt Parfait    1\n",
      "Name: item, Length: 77, dtype: int64\n",
      "calories\n",
      "********************\n",
      "350    10\n",
      "420     7\n",
      "300     6\n",
      "490     4\n",
      "380     4\n",
      "480     4\n",
      "190     3\n",
      "370     3\n",
      "170     3\n",
      "390     3\n",
      "360     3\n",
      "180     2\n",
      "400     2\n",
      "140     2\n",
      "440     2\n",
      "280     2\n",
      "320     2\n",
      "310     2\n",
      "460     2\n",
      "130     2\n",
      "210     1\n",
      "410     1\n",
      "430     1\n",
      "340     1\n",
      "270     1\n",
      "160     1\n",
      "500     1\n",
      "290     1\n",
      "80      1\n",
      "Name: calories, dtype: int64\n",
      "fat\n",
      "********************\n",
      "18.0    7\n",
      "9.0     5\n",
      "12.0    5\n",
      "8.0     4\n",
      "10.0    4\n",
      "19.0    4\n",
      "14.0    4\n",
      "7.0     4\n",
      "11.0    4\n",
      "16.0    3\n",
      "13.0    3\n",
      "21.0    3\n",
      "17.0    3\n",
      "25.0    3\n",
      "28.0    3\n",
      "5.0     2\n",
      "4.0     2\n",
      "2.5     1\n",
      "26.0    1\n",
      "0.0     1\n",
      "27.0    1\n",
      "15.0    1\n",
      "2.0     1\n",
      "1.0     1\n",
      "3.0     1\n",
      "23.0    1\n",
      "24.0    1\n",
      "22.0    1\n",
      "6.0     1\n",
      "20.0    1\n",
      "3.5     1\n",
      "Name: fat, dtype: int64\n",
      "carb\n",
      "********************\n",
      "59    5\n",
      "22    3\n",
      "43    3\n",
      "24    3\n",
      "57    3\n",
      "67    2\n",
      "52    2\n",
      "37    2\n",
      "21    2\n",
      "60    2\n",
      "25    2\n",
      "56    2\n",
      "46    2\n",
      "23    2\n",
      "30    2\n",
      "33    2\n",
      "39    2\n",
      "32    2\n",
      "61    2\n",
      "47    2\n",
      "44    2\n",
      "63    1\n",
      "31    1\n",
      "41    1\n",
      "27    1\n",
      "50    1\n",
      "20    1\n",
      "48    1\n",
      "35    1\n",
      "29    1\n",
      "45    1\n",
      "62    1\n",
      "80    1\n",
      "75    1\n",
      "17    1\n",
      "55    1\n",
      "51    1\n",
      "53    1\n",
      "34    1\n",
      "70    1\n",
      "73    1\n",
      "16    1\n",
      "58    1\n",
      "42    1\n",
      "54    1\n",
      "64    1\n",
      "78    1\n",
      "69    1\n",
      "36    1\n",
      "Name: carb, dtype: int64\n",
      "fiber\n",
      "********************\n",
      "0    29\n",
      "2    16\n",
      "3    12\n",
      "6     7\n",
      "5     6\n",
      "4     6\n",
      "7     1\n",
      "Name: fiber, dtype: int64\n",
      "protein\n",
      "********************\n",
      "6     10\n",
      "0      9\n",
      "5      8\n",
      "7      8\n",
      "2      5\n",
      "4      4\n",
      "8      4\n",
      "10     3\n",
      "15     3\n",
      "17     3\n",
      "18     2\n",
      "26     2\n",
      "13     2\n",
      "19     2\n",
      "9      1\n",
      "16     1\n",
      "3      1\n",
      "25     1\n",
      "23     1\n",
      "12     1\n",
      "14     1\n",
      "20     1\n",
      "22     1\n",
      "28     1\n",
      "32     1\n",
      "34     1\n",
      "Name: protein, dtype: int64\n",
      "type\n",
      "********************\n",
      "bakery           41\n",
      "petite            9\n",
      "bistro box        8\n",
      "hot breakfast     8\n",
      "sandwich          7\n",
      "parfait           3\n",
      "salad             1\n",
      "Name: type, dtype: int64\n"
     ]
    }
   ],
   "source": [
    "for col in df.columns:\n",
    "    print(col)\n",
    "    print(\"**\"*10)\n",
    "    print(df[col].value_counts())"
   ]
  },
  {
   "cell_type": "code",
   "execution_count": 14,
   "id": "80171303",
   "metadata": {},
   "outputs": [
    {
     "data": {
      "text/plain": [
       "Index(['Unnamed: 0', 'item', 'calories', 'fat', 'carb', 'fiber', 'protein',\n",
       "       'type'],\n",
       "      dtype='object')"
      ]
     },
     "execution_count": 14,
     "metadata": {},
     "output_type": "execute_result"
    }
   ],
   "source": [
    "df.columns"
   ]
  },
  {
   "cell_type": "code",
   "execution_count": 24,
   "id": "c40589a9",
   "metadata": {},
   "outputs": [
    {
     "data": {
      "image/png": "[encoded data removed]",
      "text/plain": [
       "<Figure size 720x360 with 1 Axes>"
      ]
     },
     "metadata": {
      "needs_background": "light"
     },
     "output_type": "display_data"
    }
   ],
   "source": [
    "plt.figure(figsize =(10,5))\n",
    "sns.histplot(df[\"calories\"], bins=30)\n",
    "plt.title(\"The Distrubution of Calories\",fontsize=20)\n",
    "plt.xlabel(\"Calories\", fontsize=10)\n",
    "plt.show()"
   ]
  },
  {
   "cell_type": "code",
   "execution_count": 25,
   "id": "7062777a",
   "metadata": {},
   "outputs": [
    {
     "data": {
      "image/png": "[encoded data removed]",
      "text/plain": [
       "<Figure size 720x360 with 1 Axes>"
      ]
     },
     "metadata": {
      "needs_background": "light"
     },
     "output_type": "display_data"
    }
   ],
   "source": [
    "plt.figure(figsize =(10,5))\n",
    "sns.histplot(df[\"fat\"], bins=30)\n",
    "plt.title(\"The Distrubution of fat\",fontsize=20)\n",
    "plt.xlabel(\"fat\", fontsize=10)\n",
    "plt.show()"
   ]
  },
  {
   "cell_type": "code",
   "execution_count": 26,
   "id": "01492d78",
   "metadata": {},
   "outputs": [
    {
     "data": {
      "image/png": "[encoded data removed]",
      "text/plain": [
       "<Figure size 720x360 with 1 Axes>"
      ]
     },
     "metadata": {
      "needs_background": "light"
     },
     "output_type": "display_data"
    }
   ],
   "source": [
    "plt.figure(figsize =(10,5))\n",
    "sns.histplot(df[\"carb\"], bins=30)\n",
    "plt.title(\"The Distrubution of carb\",fontsize=20)\n",
    "plt.xlabel(\"carb\", fontsize=10)\n",
    "plt.show()"
   ]
  },
  {
   "cell_type": "code",
   "execution_count": 27,
   "id": "87f50c44",
   "metadata": {},
   "outputs": [
    {
     "data": {
      "image/png": "[encoded data removed]",
      "text/plain": [
       "<Figure size 720x360 with 1 Axes>"
      ]
     },
     "metadata": {
      "needs_background": "light"
     },
     "output_type": "display_data"
    }
   ],
   "source": [
    "plt.figure(figsize =(10,5))\n",
    "sns.histplot(df[\"fiber\"], bins=30)\n",
    "plt.title(\"The Distrubution of fiber\",fontsize=20)\n",
    "plt.xlabel(\"fiber\", fontsize=10)\n",
    "plt.show()"
   ]
  },
  {
   "cell_type": "code",
   "execution_count": 28,
   "id": "f423577a",
   "metadata": {},
   "outputs": [
    {
     "data": {
      "image/png": "[encoded data removed]",
      "text/plain": [
       "<Figure size 720x360 with 1 Axes>"
      ]
     },
     "metadata": {
      "needs_background": "light"
     },
     "output_type": "display_data"
    }
   ],
   "source": [
    "plt.figure(figsize =(10,5))\n",
    "sns.histplot(df[\"protein\"], bins=30)\n",
    "plt.title(\"The Distrubution of protein\",fontsize=20)\n",
    "plt.xlabel(\"protein\", fontsize=10)\n",
    "plt.show()"
   ]
  },
  {
   "cell_type": "code",
   "execution_count": 29,
   "id": "2ad49a98",
   "metadata": {},
   "outputs": [
    {
     "data": {
      "image/png": "[encoded data removed]",
      "text/plain": [
       "<Figure size 720x360 with 1 Axes>"
      ]
     },
     "metadata": {
      "needs_background": "light"
     },
     "output_type": "display_data"
    }
   ],
   "source": [
    "plt.figure(figsize =(10,5))\n",
    "sns.histplot(df[\"type\"], bins=30)\n",
    "plt.title(\"The Distrubution of type\",fontsize=20)\n",
    "plt.xlabel(\"type\", fontsize=10)\n",
    "plt.show()"
   ]
  },
  {
   "cell_type": "code",
   "execution_count": 60,
   "id": "00a5c5db",
   "metadata": {},
   "outputs": [
    {
     "data": {
      "text/plain": [
       "Index(['Unnamed: 0', 'item', 'calories', 'fat', 'carb', 'fiber', 'protein',\n",
       "       'type'],\n",
       "      dtype='object')"
      ]
     },
     "execution_count": 60,
     "metadata": {},
     "output_type": "execute_result"
    }
   ],
   "source": [
    "df.columns"
   ]
  },
  {
   "cell_type": "code",
   "execution_count": 67,
   "id": "95a56375",
   "metadata": {},
   "outputs": [
    {
     "data": {
      "image/png": "[encoded data removed]",
      "text/plain": [
       "<Figure size 720x432 with 1 Axes>"
      ]
     },
     "metadata": {
      "needs_background": "light"
     },
     "output_type": "display_data"
    }
   ],
   "source": [
    "plt.figure(figsize=(10,6))\n",
    "sns.boxplot(x='type', y='calories', data=df)\n",
    "plt.title('Calories by Type',fontsize=20)\n",
    "plt.xlabel('Type')\n",
    "plt.ylabel('Calories')\n",
    "plt.show()"
   ]
  },
  {
   "cell_type": "code",
   "execution_count": 68,
   "id": "addd4002",
   "metadata": {},
   "outputs": [
    {
     "data": {
      "image/png": "[encoded data removed]",
      "text/plain": [
       "<Figure size 720x432 with 1 Axes>"
      ]
     },
     "metadata": {
      "needs_background": "light"
     },
     "output_type": "display_data"
    }
   ],
   "source": [
    "plt.figure(figsize=(10,6))\n",
    "sns.boxplot(x='type', y='fat', data=df)\n",
    "plt.title('fat by Type',fontsize=20)\n",
    "plt.xlabel('Type')\n",
    "plt.ylabel('fat')\n",
    "plt.show()"
   ]
  },
  {
   "cell_type": "code",
   "execution_count": 69,
   "id": "133fec60",
   "metadata": {},
   "outputs": [
    {
     "data": {
      "image/png": "[encoded data removed]",
      "text/plain": [
       "<Figure size 720x432 with 1 Axes>"
      ]
     },
     "metadata": {
      "needs_background": "light"
     },
     "output_type": "display_data"
    }
   ],
   "source": [
    "plt.figure(figsize=(10,6))\n",
    "sns.boxplot(x='type', y='carb', data=df)\n",
    "plt.title('carb by Type',fontsize=20)\n",
    "plt.xlabel('Type')\n",
    "plt.ylabel('carb')\n",
    "plt.show()"
   ]
  },
  {
   "cell_type": "code",
   "execution_count": 70,
   "id": "937d6540",
   "metadata": {},
   "outputs": [
    {
     "data": {
      "image/png": "[encoded data removed]",
      "text/plain": [
       "<Figure size 720x432 with 1 Axes>"
      ]
     },
     "metadata": {
      "needs_background": "light"
     },
     "output_type": "display_data"
    }
   ],
   "source": [
    "plt.figure(figsize=(10,6))\n",
    "sns.boxplot(x='type', y='fiber', data=df)\n",
    "plt.title('carb by Type',fontsize=20)\n",
    "plt.xlabel('Type')\n",
    "plt.ylabel('fiber')\n",
    "plt.show()"
   ]
  },
  {
   "cell_type": "code",
   "execution_count": 73,
   "id": "29e4c64c",
   "metadata": {},
   "outputs": [
    {
     "data": {
      "image/png": "[encoded data removed]",
      "text/plain": [
       "<Figure size 720x432 with 1 Axes>"
      ]
     },
     "metadata": {
      "needs_background": "light"
     },
     "output_type": "display_data"
    }
   ],
   "source": [
    "plt.figure(figsize=(10,6))\n",
    "sns.boxplot(x='type', y='protein', data=df)\n",
    "plt.title('protein by Type',fontsize=20)\n",
    "plt.xlabel('Type')\n",
    "plt.ylabel('protein')\n",
    "plt.show()"
   ]
  },
  {
   "cell_type": "code",
   "execution_count": 77,
   "id": "c2005942",
   "metadata": {},
   "outputs": [
    {
     "data": {
      "image/png": "[encoded data removed]",
      "text/plain": [
       "<Figure size 1080x720 with 2 Axes>"
      ]
     },
     "metadata": {
      "needs_background": "light"
     },
     "output_type": "display_data"
    }
   ],
   "source": [
    "plt.figure(figsize=(15, 10))\n",
    "sns.heatmap(corr, annot=True)\n",
    "plt.title('Correlation Matrix', fontsize= 20)\n",
    "plt.show()"
   ]
  },
  {
   "cell_type": "code",
   "execution_count": 83,
   "id": "614728d8",
   "metadata": {},
   "outputs": [],
   "source": [
    "from sklearn.model_selection import train_test_split\n",
    "from sklearn.ensemble import RandomForestRegressor\n",
    "from sklearn.metrics import mean_squared_error, mean_absolute_error\n",
    "from sklearn.preprocessing import StandardScaler, OneHotEncoder\n",
    "from sklearn.compose import ColumnTransformer\n",
    "from sklearn.pipeline import Pipeline"
   ]
  },
  {
   "cell_type": "code",
   "execution_count": 85,
   "id": "b1a766f1",
   "metadata": {},
   "outputs": [
    {
     "name": "stdout",
     "output_type": "stream",
     "text": [
      "Mean Squared Error: 1761.24\n",
      "Root Mean Squared Error: 41.97\n",
      "Mean Absolute Error: 23.54\n"
     ]
    }
   ],
   "source": [
    "from sklearn.metrics import accuracy_score\n",
    "# Remove unnecessary columns\n",
    "data = df.drop(columns=['item'])\n",
    "\n",
    "# Define preprocessing pipeline\n",
    "preprocessor = ColumnTransformer(\n",
    "    transformers=[\n",
    "        ('num', StandardScaler(), ['fat', 'carb', 'fiber', 'protein']),\n",
    "        ('cat', OneHotEncoder(handle_unknown='ignore'), ['type'])\n",
    "    ])\n",
    "\n",
    "# Train test split because I tried others and this is the best result due to small sample size \n",
    "X = data.drop('calories', axis=1)\n",
    "y = data['calories']\n",
    "X_train, X_test, y_train, y_test = train_test_split(X, y, test_size=0.2, random_state=123)\n",
    "\n",
    "# Define\n",
    "model = Pipeline(steps=[('preprocessor', preprocessor),\n",
    "                        ('regressor', RandomForestRegressor())])\n",
    "\n",
    "# Train+prediction\n",
    "model.fit(X_train, y_train)\n",
    "y_pred = model.predict(X_test)\n",
    "\n",
    "# Calculate MSE, RMSE, MAE\n",
    "mse = mean_squared_error(y_test, y_pred)\n",
    "print(f\"Mean Squared Error: {round(mse, 2)}\")\n",
    "\n",
    "rmse = np.sqrt(mse)\n",
    "print(f\"Root Mean Squared Error: {round(rmse, 2)}\")\n",
    "\n",
    "mae = mean_absolute_error(y_test, y_pred)\n",
    "print(f\"Mean Absolute Error: {round(mae, 2)}\")\n"
   ]
  },
  {
   "cell_type": "code",
   "execution_count": null,
   "id": "0285d6ff",
   "metadata": {},
   "outputs": [],
   "source": []
  }
 ],
 "metadata": {
  "kernelspec": {
   "display_name": "Python 3 (ipykernel)",
   "language": "python",
   "name": "python3"
  },
  "language_info": {
   "codemirror_mode": {
    "name": "ipython",
    "version": 3
   },
   "file_extension": ".py",
   "mimetype": "text/x-python",
   "name": "python",
   "nbconvert_exporter": "python",
   "pygments_lexer": "ipython3",
   "version": "3.9.7"
  }
 },
 "nbformat": 4,
 "nbformat_minor": 5
}
